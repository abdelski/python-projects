{
 "cells": [
  {
   "cell_type": "code",
   "execution_count": 1,
   "id": "afdad1ad",
   "metadata": {},
   "outputs": [],
   "source": [
    "import os\n",
    "import pandas as pd"
   ]
  },
  {
   "cell_type": "code",
   "execution_count": 2,
   "id": "d37f6250",
   "metadata": {},
   "outputs": [],
   "source": [
    "cwd = os.getcwd()\n",
    "BASE_DIR =  os.path.dirname(cwd)\n",
    "DATA_DIR =  os.path.join(BASE_DIR, 'data')"
   ]
  },
  {
   "cell_type": "code",
   "execution_count": 3,
   "id": "bc08b626",
   "metadata": {},
   "outputs": [
    {
     "data": {
      "text/plain": [
       "['2004.csv',\n",
       " '2012.csv',\n",
       " '2018.csv',\n",
       " '2013.csv',\n",
       " '2019.csv',\n",
       " '2016.csv',\n",
       " '2000.csv',\n",
       " '2003.csv',\n",
       " '2002.csv',\n",
       " '2010.csv',\n",
       " '2001.csv',\n",
       " '2020.csv',\n",
       " '2005.csv',\n",
       " '2017.csv',\n",
       " '2015.csv',\n",
       " '2011.csv',\n",
       " '2014.csv']"
      ]
     },
     "execution_count": 3,
     "metadata": {},
     "output_type": "execute_result"
    }
   ],
   "source": [
    "os.listdir(DATA_DIR)"
   ]
  },
  {
   "cell_type": "code",
   "execution_count": 4,
   "id": "b0c785fc",
   "metadata": {},
   "outputs": [
    {
     "name": "stdout",
     "output_type": "stream",
     "text": [
      "True\n"
     ]
    }
   ],
   "source": [
    "my_data = os.path.join(DATA_DIR, '2020.csv')\n",
    "print(os.path.exists(my_data))"
   ]
  },
  {
   "cell_type": "code",
   "execution_count": 5,
   "id": "3a422b12",
   "metadata": {},
   "outputs": [],
   "source": [
    "df = pd.read_csv(my_data)"
   ]
  },
  {
   "cell_type": "code",
   "execution_count": 6,
   "id": "bbfcc68a",
   "metadata": {},
   "outputs": [
    {
     "data": {
      "text/html": [
       "<div>\n",
       "<style scoped>\n",
       "    .dataframe tbody tr th:only-of-type {\n",
       "        vertical-align: middle;\n",
       "    }\n",
       "\n",
       "    .dataframe tbody tr th {\n",
       "        vertical-align: top;\n",
       "    }\n",
       "\n",
       "    .dataframe thead th {\n",
       "        text-align: right;\n",
       "    }\n",
       "</style>\n",
       "<table border=\"1\" class=\"dataframe\">\n",
       "  <thead>\n",
       "    <tr style=\"text-align: right;\">\n",
       "      <th></th>\n",
       "      <th>Rank</th>\n",
       "      <th>Release Group</th>\n",
       "      <th>Worldwide</th>\n",
       "      <th>Domestic</th>\n",
       "      <th>%</th>\n",
       "      <th>Foreign</th>\n",
       "      <th>%.1</th>\n",
       "    </tr>\n",
       "  </thead>\n",
       "  <tbody>\n",
       "    <tr>\n",
       "      <th>0</th>\n",
       "      <td>1</td>\n",
       "      <td>Bad Boys for Life</td>\n",
       "      <td>$425,514,702</td>\n",
       "      <td>$204,417,855</td>\n",
       "      <td>48%</td>\n",
       "      <td>$221,096,847</td>\n",
       "      <td>52%</td>\n",
       "    </tr>\n",
       "    <tr>\n",
       "      <th>1</th>\n",
       "      <td>2</td>\n",
       "      <td>Sonic the Hedgehog</td>\n",
       "      <td>$306,766,470</td>\n",
       "      <td>$146,066,470</td>\n",
       "      <td>47.6%</td>\n",
       "      <td>$160,700,000</td>\n",
       "      <td>52.4%</td>\n",
       "    </tr>\n",
       "    <tr>\n",
       "      <th>2</th>\n",
       "      <td>3</td>\n",
       "      <td>Dolittle</td>\n",
       "      <td>$227,908,130</td>\n",
       "      <td>$77,047,065</td>\n",
       "      <td>33.8%</td>\n",
       "      <td>$150,861,065</td>\n",
       "      <td>66.2%</td>\n",
       "    </tr>\n",
       "    <tr>\n",
       "      <th>3</th>\n",
       "      <td>4</td>\n",
       "      <td>Birds of Prey: And the Fantabulous Emancipatio...</td>\n",
       "      <td>$201,858,461</td>\n",
       "      <td>$84,158,461</td>\n",
       "      <td>41.7%</td>\n",
       "      <td>$117,700,000</td>\n",
       "      <td>58.3%</td>\n",
       "    </tr>\n",
       "    <tr>\n",
       "      <th>4</th>\n",
       "      <td>5</td>\n",
       "      <td>The Invisible Man</td>\n",
       "      <td>$124,549,496</td>\n",
       "      <td>$64,914,050</td>\n",
       "      <td>52.1%</td>\n",
       "      <td>$59,635,446</td>\n",
       "      <td>47.9%</td>\n",
       "    </tr>\n",
       "  </tbody>\n",
       "</table>\n",
       "</div>"
      ],
      "text/plain": [
       "   Rank                                      Release Group     Worldwide  \\\n",
       "0     1                                  Bad Boys for Life  $425,514,702   \n",
       "1     2                                 Sonic the Hedgehog  $306,766,470   \n",
       "2     3                                           Dolittle  $227,908,130   \n",
       "3     4  Birds of Prey: And the Fantabulous Emancipatio...  $201,858,461   \n",
       "4     5                                  The Invisible Man  $124,549,496   \n",
       "\n",
       "       Domestic      %       Foreign    %.1  \n",
       "0  $204,417,855    48%  $221,096,847    52%  \n",
       "1  $146,066,470  47.6%  $160,700,000  52.4%  \n",
       "2   $77,047,065  33.8%  $150,861,065  66.2%  \n",
       "3   $84,158,461  41.7%  $117,700,000  58.3%  \n",
       "4   $64,914,050  52.1%   $59,635,446  47.9%  "
      ]
     },
     "execution_count": 6,
     "metadata": {},
     "output_type": "execute_result"
    }
   ],
   "source": [
    "df.head()"
   ]
  },
  {
   "cell_type": "code",
   "execution_count": 7,
   "id": "e9657dcc",
   "metadata": {},
   "outputs": [
    {
     "data": {
      "text/html": [
       "<div>\n",
       "<style scoped>\n",
       "    .dataframe tbody tr th:only-of-type {\n",
       "        vertical-align: middle;\n",
       "    }\n",
       "\n",
       "    .dataframe tbody tr th {\n",
       "        vertical-align: top;\n",
       "    }\n",
       "\n",
       "    .dataframe thead th {\n",
       "        text-align: right;\n",
       "    }\n",
       "</style>\n",
       "<table border=\"1\" class=\"dataframe\">\n",
       "  <thead>\n",
       "    <tr style=\"text-align: right;\">\n",
       "      <th></th>\n",
       "      <th>Rank</th>\n",
       "      <th>Release Group</th>\n",
       "      <th>Worldwide</th>\n",
       "      <th>Domestic</th>\n",
       "      <th>%</th>\n",
       "      <th>Foreign</th>\n",
       "      <th>%.1</th>\n",
       "    </tr>\n",
       "  </thead>\n",
       "  <tbody>\n",
       "    <tr>\n",
       "      <th>27</th>\n",
       "      <td>28</td>\n",
       "      <td>Burden</td>\n",
       "      <td>$139,270</td>\n",
       "      <td>$139,270</td>\n",
       "      <td>100%</td>\n",
       "      <td>-</td>\n",
       "      <td>-</td>\n",
       "    </tr>\n",
       "    <tr>\n",
       "      <th>28</th>\n",
       "      <td>29</td>\n",
       "      <td>14 Days, 12 Nights</td>\n",
       "      <td>$122,806</td>\n",
       "      <td>$122,530</td>\n",
       "      <td>99.8%</td>\n",
       "      <td>$276</td>\n",
       "      <td>0.2%</td>\n",
       "    </tr>\n",
       "    <tr>\n",
       "      <th>29</th>\n",
       "      <td>30</td>\n",
       "      <td>First Cow</td>\n",
       "      <td>$101,068</td>\n",
       "      <td>$101,068</td>\n",
       "      <td>100%</td>\n",
       "      <td>-</td>\n",
       "      <td>-</td>\n",
       "    </tr>\n",
       "    <tr>\n",
       "      <th>30</th>\n",
       "      <td>31</td>\n",
       "      <td>Run</td>\n",
       "      <td>$4,052</td>\n",
       "      <td>-</td>\n",
       "      <td>-</td>\n",
       "      <td>$4,052</td>\n",
       "      <td>100%</td>\n",
       "    </tr>\n",
       "    <tr>\n",
       "      <th>31</th>\n",
       "      <td>32</td>\n",
       "      <td>A Quiet Place Part II</td>\n",
       "      <td>$163</td>\n",
       "      <td>-</td>\n",
       "      <td>-</td>\n",
       "      <td>$163</td>\n",
       "      <td>100%</td>\n",
       "    </tr>\n",
       "  </tbody>\n",
       "</table>\n",
       "</div>"
      ],
      "text/plain": [
       "    Rank          Release Group Worldwide  Domestic      % Foreign   %.1\n",
       "27    28                 Burden  $139,270  $139,270   100%       -     -\n",
       "28    29     14 Days, 12 Nights  $122,806  $122,530  99.8%    $276  0.2%\n",
       "29    30              First Cow  $101,068  $101,068   100%       -     -\n",
       "30    31                    Run    $4,052         -      -  $4,052  100%\n",
       "31    32  A Quiet Place Part II      $163         -      -    $163  100%"
      ]
     },
     "execution_count": 7,
     "metadata": {},
     "output_type": "execute_result"
    }
   ],
   "source": [
    "df.tail()"
   ]
  },
  {
   "cell_type": "code",
   "execution_count": null,
   "id": "31111b5a",
   "metadata": {},
   "outputs": [],
   "source": []
  }
 ],
 "metadata": {
  "kernelspec": {
   "display_name": "Python 3 (ipykernel)",
   "language": "python",
   "name": "python3"
  },
  "language_info": {
   "codemirror_mode": {
    "name": "ipython",
    "version": 3
   },
   "file_extension": ".py",
   "mimetype": "text/x-python",
   "name": "python",
   "nbconvert_exporter": "python",
   "pygments_lexer": "ipython3",
   "version": "3.8.10"
  }
 },
 "nbformat": 4,
 "nbformat_minor": 5
}
