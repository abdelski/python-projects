{
 "cells": [
  {
   "cell_type": "code",
   "execution_count": 2,
   "id": "9a3fd9a0",
   "metadata": {
    "scrolled": true
   },
   "outputs": [
    {
     "name": "stdout",
     "output_type": "stream",
     "text": [
      "Collecting pandas\n",
      "  Using cached pandas-1.3.5-cp38-cp38-manylinux_2_17_x86_64.manylinux2014_x86_64.whl (11.5 MB)\n",
      "Collecting sqlalchemy\n",
      "  Using cached SQLAlchemy-1.4.29-cp38-cp38-manylinux_2_5_x86_64.manylinux1_x86_64.manylinux_2_17_x86_64.manylinux2014_x86_64.whl (1.6 MB)\n",
      "Collecting sqlacodegen\n",
      "  Downloading sqlacodegen-2.3.0-py2.py3-none-any.whl (13 kB)\n",
      "Collecting numpy>=1.17.3\n",
      "  Using cached numpy-1.21.5-cp38-cp38-manylinux_2_12_x86_64.manylinux2010_x86_64.whl (15.7 MB)\n",
      "Collecting pytz>=2017.3\n",
      "  Using cached pytz-2021.3-py2.py3-none-any.whl (503 kB)\n",
      "Requirement already satisfied: python-dateutil>=2.7.3 in ./venv/lib/python3.8/site-packages (from pandas) (2.8.2)\n",
      "Collecting greenlet!=0.4.17\n",
      "  Downloading greenlet-1.1.2-cp38-cp38-manylinux_2_17_x86_64.manylinux2014_x86_64.whl (156 kB)\n",
      "     |████████████████████████████████| 156 kB 1.8 MB/s            \n",
      "\u001b[?25hCollecting inflect>=0.2.0\n",
      "  Downloading inflect-5.3.0-py3-none-any.whl (32 kB)\n",
      "Requirement already satisfied: six>=1.5 in ./venv/lib/python3.8/site-packages (from python-dateutil>=2.7.3->pandas) (1.16.0)\n",
      "Installing collected packages: greenlet, sqlalchemy, pytz, numpy, inflect, sqlacodegen, pandas\n",
      "Successfully installed greenlet-1.1.2 inflect-5.3.0 numpy-1.21.5 pandas-1.3.5 pytz-2021.3 sqlacodegen-2.3.0 sqlalchemy-1.4.29\n"
     ]
    }
   ],
   "source": [
    "!pip install pandas sqlalchemy sqlacodegen"
   ]
  },
  {
   "cell_type": "code",
   "execution_count": 3,
   "id": "a271b6f4",
   "metadata": {},
   "outputs": [],
   "source": [
    "import pickle\n",
    "import pandas as pd"
   ]
  },
  {
   "cell_type": "code",
   "execution_count": 5,
   "id": "49811f1d",
   "metadata": {},
   "outputs": [],
   "source": [
    "data = [{'name':'Abdel'}]\n",
    "with open('users.pkl', 'wb') as f:\n",
    "    pickle.dump(data, f)"
   ]
  },
  {
   "cell_type": "code",
   "execution_count": 6,
   "id": "584a907b",
   "metadata": {},
   "outputs": [
    {
     "name": "stdout",
     "output_type": "stream",
     "text": [
      "[{'name': 'Abdel'}]\n"
     ]
    }
   ],
   "source": [
    "data_from_pkl = pickle.load(open('users.pkl', 'rb'))\n",
    "print(data_from_pkl)"
   ]
  },
  {
   "cell_type": "code",
   "execution_count": 8,
   "id": "fe3a041b",
   "metadata": {},
   "outputs": [
    {
     "data": {
      "text/html": [
       "<div>\n",
       "<style scoped>\n",
       "    .dataframe tbody tr th:only-of-type {\n",
       "        vertical-align: middle;\n",
       "    }\n",
       "\n",
       "    .dataframe tbody tr th {\n",
       "        vertical-align: top;\n",
       "    }\n",
       "\n",
       "    .dataframe thead th {\n",
       "        text-align: right;\n",
       "    }\n",
       "</style>\n",
       "<table border=\"1\" class=\"dataframe\">\n",
       "  <thead>\n",
       "    <tr style=\"text-align: right;\">\n",
       "      <th></th>\n",
       "      <th>name</th>\n",
       "    </tr>\n",
       "  </thead>\n",
       "  <tbody>\n",
       "    <tr>\n",
       "      <th>0</th>\n",
       "      <td>Abdel</td>\n",
       "    </tr>\n",
       "  </tbody>\n",
       "</table>\n",
       "</div>"
      ],
      "text/plain": [
       "    name\n",
       "0  Abdel"
      ]
     },
     "execution_count": 8,
     "metadata": {},
     "output_type": "execute_result"
    }
   ],
   "source": [
    "df = pd.DataFrame(data_from_pkl)\n",
    "df.head()"
   ]
  },
  {
   "cell_type": "code",
   "execution_count": 9,
   "id": "cfc93f97",
   "metadata": {},
   "outputs": [
    {
     "data": {
      "text/plain": [
       "name    object\n",
       "dtype: object"
      ]
     },
     "execution_count": 9,
     "metadata": {},
     "output_type": "execute_result"
    }
   ],
   "source": [
    "df.to_pickle('df_pkl')\n",
    "df.dtypes"
   ]
  },
  {
   "cell_type": "code",
   "execution_count": 11,
   "id": "32ae8d2e",
   "metadata": {},
   "outputs": [
    {
     "data": {
      "text/html": [
       "<div>\n",
       "<style scoped>\n",
       "    .dataframe tbody tr th:only-of-type {\n",
       "        vertical-align: middle;\n",
       "    }\n",
       "\n",
       "    .dataframe tbody tr th {\n",
       "        vertical-align: top;\n",
       "    }\n",
       "\n",
       "    .dataframe thead th {\n",
       "        text-align: right;\n",
       "    }\n",
       "</style>\n",
       "<table border=\"1\" class=\"dataframe\">\n",
       "  <thead>\n",
       "    <tr style=\"text-align: right;\">\n",
       "      <th></th>\n",
       "      <th>name</th>\n",
       "    </tr>\n",
       "  </thead>\n",
       "  <tbody>\n",
       "    <tr>\n",
       "      <th>0</th>\n",
       "      <td>Abdel</td>\n",
       "    </tr>\n",
       "  </tbody>\n",
       "</table>\n",
       "</div>"
      ],
      "text/plain": [
       "    name\n",
       "0  Abdel"
      ]
     },
     "execution_count": 11,
     "metadata": {},
     "output_type": "execute_result"
    }
   ],
   "source": [
    "df2= pd.read_pickle('df_pkl')\n",
    "df2.head()"
   ]
  },
  {
   "cell_type": "code",
   "execution_count": 12,
   "id": "d2229168",
   "metadata": {},
   "outputs": [],
   "source": [
    "df.to_csv('my_df.csv', index=False)"
   ]
  },
  {
   "cell_type": "markdown",
   "id": "aebf42e1",
   "metadata": {},
   "source": [
    "### SQLAlchemy\n",
    "\n",
    "SqlAlchemy and Django have a similar ORM "
   ]
  },
  {
   "cell_type": "code",
   "execution_count": 17,
   "id": "6fc01848",
   "metadata": {},
   "outputs": [],
   "source": [
    "from dataclasses import dataclass\n",
    "\n",
    "@dataclass\n",
    "class Movie:\n",
    "    name:str = 'Name'\n",
    "    genre:str = 'Genre'\n",
    "    year:int = None"
   ]
  },
  {
   "cell_type": "code",
   "execution_count": 30,
   "id": "b19908b9",
   "metadata": {},
   "outputs": [
    {
     "data": {
      "text/plain": [
       "2002"
      ]
     },
     "execution_count": 30,
     "metadata": {},
     "output_type": "execute_result"
    }
   ],
   "source": [
    "movie_obj = Movie('Spider-Man', 'Superhero Film', 2002)\n",
    "movie_obj.name\n",
    "movie_obj.year"
   ]
  },
  {
   "cell_type": "code",
   "execution_count": 31,
   "id": "3b34976b",
   "metadata": {},
   "outputs": [],
   "source": [
    "data = [{\n",
    "    \"name\": \"Interstellar\",\n",
    "    \"genre\": \"Sci-Fi\"\n",
    "},\n",
    "{\n",
    "    \"name\": \"The Martian\",\n",
    "    \"genre\": \"Sci-Fi\"\n",
    "},\n",
    "{\n",
    "    \"name\": \"Arrival\",\n",
    "    \"genre\": \"Sci-Fi\"\n",
    "}\n",
    "]"
   ]
  },
  {
   "cell_type": "code",
   "execution_count": 33,
   "id": "0b47009f",
   "metadata": {},
   "outputs": [
    {
     "data": {
      "text/html": [
       "<div>\n",
       "<style scoped>\n",
       "    .dataframe tbody tr th:only-of-type {\n",
       "        vertical-align: middle;\n",
       "    }\n",
       "\n",
       "    .dataframe tbody tr th {\n",
       "        vertical-align: top;\n",
       "    }\n",
       "\n",
       "    .dataframe thead th {\n",
       "        text-align: right;\n",
       "    }\n",
       "</style>\n",
       "<table border=\"1\" class=\"dataframe\">\n",
       "  <thead>\n",
       "    <tr style=\"text-align: right;\">\n",
       "      <th></th>\n",
       "      <th>name</th>\n",
       "      <th>genre</th>\n",
       "    </tr>\n",
       "  </thead>\n",
       "  <tbody>\n",
       "    <tr>\n",
       "      <th>0</th>\n",
       "      <td>Interstellar</td>\n",
       "      <td>Sci-Fi</td>\n",
       "    </tr>\n",
       "    <tr>\n",
       "      <th>1</th>\n",
       "      <td>The Martian</td>\n",
       "      <td>Sci-Fi</td>\n",
       "    </tr>\n",
       "    <tr>\n",
       "      <th>2</th>\n",
       "      <td>Arrival</td>\n",
       "      <td>Sci-Fi</td>\n",
       "    </tr>\n",
       "  </tbody>\n",
       "</table>\n",
       "</div>"
      ],
      "text/plain": [
       "           name   genre\n",
       "0  Interstellar  Sci-Fi\n",
       "1   The Martian  Sci-Fi\n",
       "2       Arrival  Sci-Fi"
      ]
     },
     "execution_count": 33,
     "metadata": {},
     "output_type": "execute_result"
    }
   ],
   "source": [
    "df = pd.DataFrame(data)\n",
    "df.head()"
   ]
  },
  {
   "cell_type": "code",
   "execution_count": 99,
   "id": "6471d512",
   "metadata": {},
   "outputs": [],
   "source": [
    "import sqlalchemy\n",
    "from sqlalchemy import create_engine, Column, String, Integer\n",
    "from sqlalchemy.orm import sessionmaker"
   ]
  },
  {
   "cell_type": "code",
   "execution_count": 100,
   "id": "332bed90",
   "metadata": {},
   "outputs": [],
   "source": [
    "engine = create_engine('sqlite:///app.db')"
   ]
  },
  {
   "cell_type": "code",
   "execution_count": 101,
   "id": "fc4c34f9",
   "metadata": {},
   "outputs": [],
   "source": [
    "Session = sessionmaker(bind=engine)\n",
    "session = Session()"
   ]
  },
  {
   "cell_type": "code",
   "execution_count": 102,
   "id": "d071762c",
   "metadata": {},
   "outputs": [],
   "source": [
    "from sqlalchemy.ext.declarative import declarative_base\n",
    "\n",
    "Base = declarative_base()"
   ]
  },
  {
   "cell_type": "code",
   "execution_count": 103,
   "id": "3a33431e",
   "metadata": {},
   "outputs": [],
   "source": [
    "class Movie(Base): #table\n",
    "    __tablename__='movies'\n",
    "    \n",
    "    id = Column(Integer, primary_key=True)\n",
    "    name = Column(String)\n",
    "    genre = Column(String)\n",
    "    desc = Column(String)\n",
    "    year = Column(Integer, nullable=True)\n",
    "    \n",
    "    #representation\n",
    "    def __repr__(self):\n",
    "        return f'<Movie name={self.name}>'\n",
    "    "
   ]
  },
  {
   "cell_type": "code",
   "execution_count": 104,
   "id": "06726d14",
   "metadata": {},
   "outputs": [],
   "source": [
    "Base.metadata.create_all(engine)#Add table to database"
   ]
  },
  {
   "cell_type": "code",
   "execution_count": 105,
   "id": "77b799e0",
   "metadata": {},
   "outputs": [],
   "source": [
    "movie = Movie(name= 'Avatart', genre='Sci-Fi')"
   ]
  },
  {
   "cell_type": "code",
   "execution_count": 106,
   "id": "4a29fe15",
   "metadata": {},
   "outputs": [],
   "source": [
    "session.add(movie)\n",
    "session.commit()"
   ]
  },
  {
   "cell_type": "code",
   "execution_count": 107,
   "id": "4b0aa5b5",
   "metadata": {},
   "outputs": [
    {
     "name": "stdout",
     "output_type": "stream",
     "text": [
      "6\n"
     ]
    }
   ],
   "source": [
    "print(movie.id)"
   ]
  },
  {
   "cell_type": "markdown",
   "id": "0eeffe77",
   "metadata": {},
   "source": [
    "### CRUD in SQLAlchemy\n",
    "Create/Retrieve/Update/Delete"
   ]
  },
  {
   "cell_type": "code",
   "execution_count": 108,
   "id": "e2eb227f",
   "metadata": {},
   "outputs": [],
   "source": [
    "Session = sessionmaker(bind=engine)\n",
    "session = Session()"
   ]
  },
  {
   "cell_type": "code",
   "execution_count": 109,
   "id": "e3b1e23d",
   "metadata": {},
   "outputs": [],
   "source": [
    "movie = Movie(name='Iron Man')\n",
    "session.add(movie)\n",
    "session.commit()"
   ]
  },
  {
   "cell_type": "code",
   "execution_count": 110,
   "id": "22cf0975",
   "metadata": {},
   "outputs": [
    {
     "data": {
      "text/plain": [
       "[<Movie name=Avatart>,\n",
       " <Movie name=Iron Man>,\n",
       " <Movie name=Iron Man>,\n",
       " <Movie name=Avatart>,\n",
       " <Movie name=Iron Man>,\n",
       " <Movie name=Avatart>,\n",
       " <Movie name=Iron Man>]"
      ]
     },
     "execution_count": 110,
     "metadata": {},
     "output_type": "execute_result"
    }
   ],
   "source": [
    "movie_ret = session.query(Movie).all()\n",
    "movie_ret"
   ]
  },
  {
   "cell_type": "code",
   "execution_count": 113,
   "id": "64bdb3aa",
   "metadata": {},
   "outputs": [
    {
     "data": {
      "text/plain": [
       "[<Movie name=Iron Man>,\n",
       " <Movie name=Iron Man>,\n",
       " <Movie name=Iron Man>,\n",
       " <Movie name=Iron Man>]"
      ]
     },
     "execution_count": 113,
     "metadata": {},
     "output_type": "execute_result"
    }
   ],
   "source": [
    "movie_ret = session.query(Movie).filter_by(name=\"Iron Man\").all()\n",
    "movie_ret"
   ]
  },
  {
   "cell_type": "code",
   "execution_count": 117,
   "id": "79bb578d",
   "metadata": {},
   "outputs": [
    {
     "name": "stdout",
     "output_type": "stream",
     "text": [
      "Name of movieAvatart\n",
      "[<Movie name=Avatart>, <Movie name=Avatart>, <Movie name=Avatart>]\n"
     ]
    }
   ],
   "source": [
    "search = input('Name of movie') or 'Name'\n",
    "movie_ret = session.query(Movie).filter_by(name=search).all()\n",
    "print(movie_ret)"
   ]
  },
  {
   "cell_type": "code",
   "execution_count": 120,
   "id": "a560201b",
   "metadata": {},
   "outputs": [],
   "source": [
    "movie_ret = session.query(Movie).get(2)\n",
    "session.delete(movie_ret)\n",
    "session.commit()\n",
    "session.flush()"
   ]
  },
  {
   "cell_type": "code",
   "execution_count": 121,
   "id": "cd226492",
   "metadata": {},
   "outputs": [
    {
     "data": {
      "text/plain": [
       "[<Movie name=Avatart>,\n",
       " <Movie name=Iron Man>,\n",
       " <Movie name=Avatart>,\n",
       " <Movie name=Iron Man>,\n",
       " <Movie name=Avatart>,\n",
       " <Movie name=Iron Man>]"
      ]
     },
     "execution_count": 121,
     "metadata": {},
     "output_type": "execute_result"
    }
   ],
   "source": [
    "session.query(Movie).all()"
   ]
  },
  {
   "cell_type": "code",
   "execution_count": 128,
   "id": "49c82d79",
   "metadata": {},
   "outputs": [
    {
     "data": {
      "text/html": [
       "<div>\n",
       "<style scoped>\n",
       "    .dataframe tbody tr th:only-of-type {\n",
       "        vertical-align: middle;\n",
       "    }\n",
       "\n",
       "    .dataframe tbody tr th {\n",
       "        vertical-align: top;\n",
       "    }\n",
       "\n",
       "    .dataframe thead th {\n",
       "        text-align: right;\n",
       "    }\n",
       "</style>\n",
       "<table border=\"1\" class=\"dataframe\">\n",
       "  <thead>\n",
       "    <tr style=\"text-align: right;\">\n",
       "      <th></th>\n",
       "      <th>id</th>\n",
       "      <th>name</th>\n",
       "      <th>genre</th>\n",
       "      <th>desc</th>\n",
       "      <th>year</th>\n",
       "    </tr>\n",
       "  </thead>\n",
       "  <tbody>\n",
       "    <tr>\n",
       "      <th>0</th>\n",
       "      <td>1</td>\n",
       "      <td>Avatart</td>\n",
       "      <td>Sci-Fi</td>\n",
       "      <td>None</td>\n",
       "      <td>None</td>\n",
       "    </tr>\n",
       "    <tr>\n",
       "      <th>1</th>\n",
       "      <td>3</td>\n",
       "      <td>Iron Man</td>\n",
       "      <td>None</td>\n",
       "      <td>None</td>\n",
       "      <td>None</td>\n",
       "    </tr>\n",
       "    <tr>\n",
       "      <th>2</th>\n",
       "      <td>4</td>\n",
       "      <td>Avatart</td>\n",
       "      <td>Sci-Fi</td>\n",
       "      <td>None</td>\n",
       "      <td>None</td>\n",
       "    </tr>\n",
       "    <tr>\n",
       "      <th>3</th>\n",
       "      <td>5</td>\n",
       "      <td>Iron Man</td>\n",
       "      <td>None</td>\n",
       "      <td>None</td>\n",
       "      <td>None</td>\n",
       "    </tr>\n",
       "    <tr>\n",
       "      <th>4</th>\n",
       "      <td>6</td>\n",
       "      <td>Avatart</td>\n",
       "      <td>Sci-Fi</td>\n",
       "      <td>None</td>\n",
       "      <td>None</td>\n",
       "    </tr>\n",
       "  </tbody>\n",
       "</table>\n",
       "</div>"
      ],
      "text/plain": [
       "   id      name   genre  desc  year\n",
       "0   1   Avatart  Sci-Fi  None  None\n",
       "1   3  Iron Man    None  None  None\n",
       "2   4   Avatart  Sci-Fi  None  None\n",
       "3   5  Iron Man    None  None  None\n",
       "4   6   Avatart  Sci-Fi  None  None"
      ]
     },
     "execution_count": 128,
     "metadata": {},
     "output_type": "execute_result"
    }
   ],
   "source": [
    "import sqlite3\n",
    "\n",
    "con = sqlite3.connect('app.db')\n",
    "# con2 = sqlite3.connect('sqlite:///app.db')\n",
    "\n",
    "df = pd.read_sql_query('select * from movies', con)\n",
    "df.head()"
   ]
  }
 ],
 "metadata": {
  "kernelspec": {
   "display_name": "Python 3 (ipykernel)",
   "language": "python",
   "name": "python3"
  },
  "language_info": {
   "codemirror_mode": {
    "name": "ipython",
    "version": 3
   },
   "file_extension": ".py",
   "mimetype": "text/x-python",
   "name": "python",
   "nbconvert_exporter": "python",
   "pygments_lexer": "ipython3",
   "version": "3.8.10"
  }
 },
 "nbformat": 4,
 "nbformat_minor": 5
}
